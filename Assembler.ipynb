{
 "cells": [
  {
   "cell_type": "code",
   "execution_count": 184,
   "metadata": {},
   "outputs": [],
   "source": [
    "import numpy as np\n",
    "import re\n",
    "import math\n",
    "from pprint import pprint"
   ]
  },
  {
   "cell_type": "markdown",
   "metadata": {},
   "source": [
    "#### GLOBAL VARIABLES"
   ]
  },
  {
   "cell_type": "code",
   "execution_count": 153,
   "metadata": {},
   "outputs": [],
   "source": [
    "INSTRUCTIONS = {'LDA':'00', 'LDX':'04', 'LDCH':'50', 'STA':'0C', 'JEQ':'30', 'WD':'DC', 'TD':'E0', 'TIX':'2C', 'JLT':'38'}\n",
    "OPCODES = ['WORD', 'BYTE', 'RESW', 'RESB']\n",
    "INST_LABEL = '###'\n",
    "DEFAULT_CODE_NAME = 'ASSEMBLER_CODE'\n",
    "BLANK = '___'\n",
    "PROG_NAME= ''"
   ]
  },
  {
   "cell_type": "markdown",
   "metadata": {},
   "source": [
    "### Helper Methods (for PASS ONE)"
   ]
  },
  {
   "cell_type": "markdown",
   "metadata": {},
   "source": [
    "#### - **Count number of characters in byte**"
   ]
  },
  {
   "cell_type": "code",
   "execution_count": 29,
   "metadata": {},
   "outputs": [],
   "source": [
    "def Count_byte(operand):\n",
    "    operand= re.sub(r'[^\\w]', '', operand) ## remove everything except alphanumeric and Underscore and Space ;)\n",
    "    if operand.startswith('C'):\n",
    "        return len(operand[1:])\n",
    "    if operand.startswith('X'):\n",
    "        return math.ceil(len(operand[1:]) / 2 )\n",
    "    \n",
    "assert Count_byte('X05') == 1\n",
    "assert Count_byte('X05F3') == 2\n",
    "assert Count_byte('X054') == 2\n",
    "assert Count_byte('X05F305F3') == 4\n",
    "assert Count_byte('C05F305F3') == 8"
   ]
  },
  {
   "cell_type": "markdown",
   "metadata": {},
   "source": [
    "#### - Add Hexa-values"
   ]
  },
  {
   "cell_type": "code",
   "execution_count": 30,
   "metadata": {},
   "outputs": [],
   "source": [
    "def add_X(prev, amount):\n",
    "    A1 = int(prev, 16)\n",
    "    return format(A1 + int(amount), '04X')\n",
    "\n",
    "assert add_X('100f', 11) == '101A'\n",
    "assert add_X('101A', 11) == '1025'"
   ]
  },
  {
   "cell_type": "markdown",
   "metadata": {},
   "source": [
    "### Read program"
   ]
  },
  {
   "cell_type": "code",
   "execution_count": 126,
   "metadata": {},
   "outputs": [
    {
     "data": {
      "text/plain": [
       "{0: ['HWA', 'START', '1010'],\n",
       " 1: ['LDA', 'ALPHA'],\n",
       " 2: ['STA', 'GAMMA'],\n",
       " 3: ['LDA', 'BETA'],\n",
       " 4: ['STA', 'ALPHA'],\n",
       " 5: ['LDA', 'GAMMA'],\n",
       " 6: ['STA', 'BETA'],\n",
       " 7: ['ALPHA', 'WORD', '100'],\n",
       " 8: ['BETA', 'WORD', '333'],\n",
       " 9: ['GAMMA', 'RESW', '1'],\n",
       " 10: ['END', '1010']}"
      ]
     },
     "execution_count": 126,
     "metadata": {},
     "output_type": "execute_result"
    }
   ],
   "source": [
    "content = dict()\n",
    "with open('./Prog_1.txt', 'r') as f:\n",
    "    for i,v in enumerate(f.readlines()):\n",
    "        content[i] = v.split()\n",
    "\n",
    "content"
   ]
  },
  {
   "cell_type": "markdown",
   "metadata": {},
   "source": [
    "### Main Method (PASS ONE)"
   ]
  },
  {
   "cell_type": "markdown",
   "metadata": {},
   "source": [
    "#### Create Symbol Table"
   ]
  },
  {
   "cell_type": "code",
   "execution_count": 162,
   "metadata": {},
   "outputs": [],
   "source": [
    "def Create_SYMTABLE(content):\n",
    "    global PROG_NAME\n",
    "    STARTADD= LOCCTR = content[0][-1]  ## initialize LOCCTR[will count in hexa] and Starting Address\n",
    "    LOC = dict()  ## label : Location\n",
    "    \n",
    "    ## initialization for Start Location and Lenght of prog\n",
    "    LOC[ DEFAULT_CODE_NAME if content[0][0] =='START' else content[0][0]] = \"___\" \n",
    "    \n",
    "    PROG_NAME = DEFAULT_CODE_NAME if content[0][0] =='START' else content[0][0]\n",
    "    LenOfProg = 0\n",
    "\n",
    "    for i, v in enumerate(content.values()):\n",
    "        if i == 0: continue  ## Skip Head line\n",
    "        if str.upper(v[0]) == 'END':\n",
    "            LenOfProg = format(int(LOCCTR,16) - int(STARTADD, 16), '02X')  ## make a method\n",
    "            LOC['END'] = BLANK\n",
    "            break\n",
    "\n",
    "        if v[0] in INSTRUCTIONS.keys():     ## just instruction (without label)\n",
    "            ## Instruction Segment\n",
    "\n",
    "            LOC[INST_LABEL + str(i)] = LOCCTR\n",
    "            LOCCTR = add_X(LOCCTR, 3)\n",
    "        elif  v[1] in INSTRUCTIONS.keys():  ## Labeled Instruction (loop, ...etc)\n",
    "            LOC[v[0]] = LOCCTR\n",
    "            LOCCTR = add_X(LOCCTR, 3)\n",
    "        \n",
    "        elif v[0] not in OPCODES and v[1] not in OPCODES:\n",
    "            raise Exception(f'INVALID OPERATION CODE ==> {v[0]}')\n",
    "        else:\n",
    "            ## DATA Segment\n",
    "            label = v[0]    ## label\n",
    "            OpCode = v[1]   ## Operation Code\n",
    "            operand = v[2]  ## Operand (value)\n",
    "            ## WORD -> add 3\n",
    "            if OpCode == 'WORD':\n",
    "                LOC[label] = LOCCTR\n",
    "                LOCCTR = add_X(LOCCTR, 3)\n",
    "            ## BYTE add lenght of Operand\n",
    "            elif  OpCode == 'BYTE':\n",
    "                LOC[label] = LOCCTR\n",
    "                len_Of_str = Count_byte(''.join(v[2:]))  #['X', '05'] => ['X05']\n",
    "                LOCCTR = add_X(LOCCTR, len_Of_str)\n",
    "            ## RESB -> add Operand\n",
    "            elif  OpCode == 'RESB':\n",
    "                LOC[label] = LOCCTR\n",
    "                LOCCTR = add_X(LOCCTR, operand)\n",
    "                ## RESB -> add Operand * 3\n",
    "            elif  OpCode == 'RESW':\n",
    "                LOC[label] = LOCCTR\n",
    "                LOCCTR = add_X(LOCCTR, int(operand) * 3)\n",
    "            else:\n",
    "                raise Exception(f'INVALID OPERATION CODE ==> {OpCode}')\n",
    "\n",
    "    return LOC, LenOfProg, STARTADD"
   ]
  },
  {
   "cell_type": "code",
   "execution_count": 163,
   "metadata": {},
   "outputs": [],
   "source": [
    "LOCTBLE, lenPg, STRT = Create_SYMTABLE(content)"
   ]
  },
  {
   "cell_type": "code",
   "execution_count": 164,
   "metadata": {},
   "outputs": [
    {
     "data": {
      "text/plain": [
       "{'HWA': '___',\n",
       " '###1': '1010',\n",
       " '###2': '1013',\n",
       " '###3': '1016',\n",
       " '###4': '1019',\n",
       " '###5': '101C',\n",
       " '###6': '101F',\n",
       " 'ALPHA': '1022',\n",
       " 'BETA': '1025',\n",
       " 'GAMMA': '1028',\n",
       " 'END': '___'}"
      ]
     },
     "execution_count": 164,
     "metadata": {},
     "output_type": "execute_result"
    }
   ],
   "source": [
    "LOCTBLE"
   ]
  },
  {
   "cell_type": "code",
   "execution_count": 165,
   "metadata": {},
   "outputs": [
    {
     "data": {
      "text/plain": [
       "'1B'"
      ]
     },
     "execution_count": 165,
     "metadata": {},
     "output_type": "execute_result"
    }
   ],
   "source": [
    "lenPg"
   ]
  },
  {
   "cell_type": "code",
   "execution_count": 166,
   "metadata": {},
   "outputs": [
    {
     "data": {
      "text/plain": [
       "'1010'"
      ]
     },
     "execution_count": 166,
     "metadata": {},
     "output_type": "execute_result"
    }
   ],
   "source": [
    "STRT"
   ]
  },
  {
   "cell_type": "code",
   "execution_count": 167,
   "metadata": {},
   "outputs": [
    {
     "data": {
      "text/plain": [
       "'HWA'"
      ]
     },
     "execution_count": 167,
     "metadata": {},
     "output_type": "execute_result"
    }
   ],
   "source": [
    "PROG_NAME"
   ]
  },
  {
   "cell_type": "markdown",
   "metadata": {},
   "source": [
    "### Helper Methods (for PASS TWO)"
   ]
  },
  {
   "cell_type": "code",
   "execution_count": null,
   "metadata": {},
   "outputs": [],
   "source": []
  },
  {
   "cell_type": "code",
   "execution_count": 116,
   "metadata": {},
   "outputs": [],
   "source": [
    "## takes   string with hexa   values\n",
    "## returns string with binary values with lenght 16 digit\n",
    "def hex_to_binary(hexVal):\n",
    "    return bin(int(hexVal, 16))[2:].zfill(16)\n",
    "\n",
    "assert hex_to_binary('0045') == '0000000001000101'"
   ]
  },
  {
   "cell_type": "code",
   "execution_count": 117,
   "metadata": {},
   "outputs": [],
   "source": [
    "## Takes string binary\n",
    "## returns string Hexa (after adding 1 to the first 0)\n",
    "## [add x(if-exists i.e x=1) to address ]  \n",
    "## examples:\n",
    "## 004C ==> 804C   (0 --> 0000) after addition (1000) = 8\n",
    "## 104C ==> 904C   (1 --> 0001) after addition (1001) = 9\n",
    "\n",
    "def add_B_X(A):\n",
    "    added = \"1\" + \"0\" * 15\n",
    "    return format(int(A, 2) + int(added, 2), 'X')\n",
    "\n",
    "assert add_B_X( hex_to_binary('004C') ) == '804C'\n",
    "assert add_B_X( hex_to_binary('204C') ) == 'A04C'"
   ]
  },
  {
   "cell_type": "code",
   "execution_count": 118,
   "metadata": {},
   "outputs": [],
   "source": [
    "def make_OBJ_Code(OpCode,address, x = 0):\n",
    "    if x == 0:\n",
    "        return OpCode + address\n",
    "    else:\n",
    "        return OpCode + add_B_X(hex_to_binary(address))\n",
    "        \n",
    "assert make_OBJ_Code('00','004C', 1) == '00804C'\n",
    "assert make_OBJ_Code('00','004C')    == '00004C'"
   ]
  },
  {
   "cell_type": "code",
   "execution_count": null,
   "metadata": {},
   "outputs": [],
   "source": []
  },
  {
   "cell_type": "code",
   "execution_count": 119,
   "metadata": {},
   "outputs": [],
   "source": [
    "def x_exist(labelX):\n",
    "    labelX = labelX.replace(' ', '') ## remove whiteSpace\n",
    "    return labelX.endswith(',X')\n",
    "    \n",
    "    \n",
    "assert x_exist('RECORD, X') == True"
   ]
  },
  {
   "cell_type": "code",
   "execution_count": 120,
   "metadata": {},
   "outputs": [],
   "source": [
    "def x_exist_data(labelX):\n",
    "    return labelX.startswith('X')\n",
    "\n",
    "assert x_exist_data(\"X '04'\") == True\n",
    "assert x_exist_data(\"C '04'\") == False\n"
   ]
  },
  {
   "cell_type": "code",
   "execution_count": 121,
   "metadata": {},
   "outputs": [],
   "source": [
    "## BYTE OBJCODE\n",
    "def get_BYTE_OBCODE(value, x='X'):\n",
    "    if x =='X':\n",
    "        return value\n",
    "    return ''.join(format(ord(ch), 'X') for ch in value)\n",
    "\n",
    "assert get_BYTE_OBCODE('TEST STRING','C') == '5445535420535452494E47'\n",
    "assert get_BYTE_OBCODE('05','X') == '05'\n",
    "assert get_BYTE_OBCODE('05') == '05'\n",
    "assert get_BYTE_OBCODE('05','C') == '3035'"
   ]
  },
  {
   "cell_type": "code",
   "execution_count": 122,
   "metadata": {},
   "outputs": [],
   "source": [
    "## WORD OBJECT CODE\n",
    "\n",
    "## takes input in decimal [string | integer]\n",
    "## convert it into hexa\n",
    "## return string with hexa\n",
    "def get_WORD_OBCODE(value):\n",
    "    return format(int(value), 'X').zfill(6)\n",
    "\n",
    "assert get_WORD_OBCODE(333) == '00014D'"
   ]
  },
  {
   "cell_type": "code",
   "execution_count": null,
   "metadata": {},
   "outputs": [],
   "source": []
  },
  {
   "cell_type": "markdown",
   "metadata": {},
   "source": [
    "### Main Method (PASS TWO)"
   ]
  },
  {
   "cell_type": "markdown",
   "metadata": {},
   "source": [
    "####  Create Object Code"
   ]
  },
  {
   "cell_type": "code",
   "execution_count": 185,
   "metadata": {},
   "outputs": [],
   "source": [
    "def Create_OBJ_CODES(SymTable, content):\n",
    "    ObjCds = []\n",
    "    ObjCds.append(BLANK) ## Start Address doesn't have Object Code\n",
    "    for i, v in enumerate(content.values()):\n",
    "        if i == 0:  continue\n",
    "        ## Normal Instruction\n",
    "        if v[0] in INSTRUCTIONS.keys():\n",
    "            OpCode = INSTRUCTIONS[v[0]]\n",
    "            address= SymTable[re.sub(r',','',v[1])]\n",
    "            if x_exist(''.join(v[1:])):\n",
    "                ObjCds.append(make_OBJ_Code(OpCode, address, x = 1))\n",
    "            else:\n",
    "                ObjCds.append(make_OBJ_Code(OpCode, address))\n",
    "        \n",
    "        ## labeled INSTRUCTION (loop, jump, ... etc)\n",
    "        elif v[1] in INSTRUCTIONS.keys(): \n",
    "            OpCode = INSTRUCTIONS[v[1]]\n",
    "            address= SymTable[v[2]]\n",
    "            if x_exist(''.join(v[2:])):\n",
    "                ObjCds.append(make_OBJ_Code(OpCode, address, x = 1))\n",
    "            else:\n",
    "                ObjCds.append(make_OBJ_Code(OpCode, address))\n",
    "        else:\n",
    "            if   v[1] == 'WORD':\n",
    "                ObjCds.append(get_WORD_OBCODE(v[2]))\n",
    "            elif v[1] == 'BYTE':\n",
    "                if x_exist_data(''.join(v[2:])):\n",
    "                    ObjCds.append(get_BYTE_OBCODE(v[-1]))\n",
    "                else:\n",
    "                    ObjCds.append(get_BYTE_OBCODE(v[-1], 'C'))\n",
    "            elif v[1] == 'RESB' or v[1] == 'RESW':\n",
    "                ObjCds.append(BLANK)\n",
    "                \n",
    "            elif v[0] == 'END':\n",
    "                ObjCds.append(BLANK)\n",
    "            else:\n",
    "                raise Exception(f'INVALID INPUT CODE ==> {v[1]}')                \n",
    "    return ObjCds"
   ]
  },
  {
   "cell_type": "code",
   "execution_count": 144,
   "metadata": {},
   "outputs": [],
   "source": [
    "OBJECTS = Create_OBJ_CODES(LOCTBLE, content)"
   ]
  },
  {
   "cell_type": "code",
   "execution_count": 145,
   "metadata": {
    "scrolled": true
   },
   "outputs": [
    {
     "name": "stdout",
     "output_type": "stream",
     "text": [
      "['___',\n",
      " '001022',\n",
      " '0C1028',\n",
      " '001025',\n",
      " '0C1022',\n",
      " '001028',\n",
      " '0C1025',\n",
      " '000064',\n",
      " '00014D',\n",
      " '___',\n",
      " '___']\n"
     ]
    }
   ],
   "source": [
    "from pprint import pprint\n",
    "pprint(OBJECTS)"
   ]
  },
  {
   "cell_type": "markdown",
   "metadata": {},
   "source": [
    "#### Writing Symbol-table and Object Codes into file"
   ]
  },
  {
   "cell_type": "code",
   "execution_count": 183,
   "metadata": {},
   "outputs": [],
   "source": [
    "f = open('Progg_'+PROG_NAME+\".txt\", \"w\")\n",
    "f.write('='*30 + '\\n')\n",
    "f.write('LOC \\t\\t OBJ_CODE\\n')\n",
    "f.write('='*30 + '\\n')\n",
    "for loc, obcod in zip(LOCTBLE.values(),OBJECTS):\n",
    "    f.write(loc+ \" \\t\\t \"+ obcod + \"\\n\")\n",
    "f.write('='*30 + '\\n')\n",
    "f.close()"
   ]
  },
  {
   "cell_type": "markdown",
   "metadata": {},
   "source": [
    "###### additional method"
   ]
  },
  {
   "cell_type": "code",
   "execution_count": 87,
   "metadata": {},
   "outputs": [],
   "source": [
    "def bin_to_hex(binVal):\n",
    "    return format(int(binVal,2), '04X')\n",
    "    \n",
    "assert bin_to_hex('1000000001000101') == '8045'"
   ]
  }
 ],
 "metadata": {
  "kernelspec": {
   "display_name": "Python 3",
   "language": "python",
   "name": "python3"
  },
  "language_info": {
   "codemirror_mode": {
    "name": "ipython",
    "version": 3
   },
   "file_extension": ".py",
   "mimetype": "text/x-python",
   "name": "python",
   "nbconvert_exporter": "python",
   "pygments_lexer": "ipython3",
   "version": "3.7.2"
  }
 },
 "nbformat": 4,
 "nbformat_minor": 2
}
